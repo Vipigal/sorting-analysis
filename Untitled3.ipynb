{
  "cells": [
    {
      "cell_type": "code",
      "execution_count": 1,
      "metadata": {
        "id": "L66jCJUpoS0A"
      },
      "outputs": [],
      "source": [
        "import matplotlib.pyplot as plt\n",
        "import pandas as pd\n",
        "import numpy as np\n",
        "import seaborn as sns"
      ]
    },
    {
      "cell_type": "code",
      "execution_count": 7,
      "metadata": {
        "id": "2FQBd8DAoiQq"
      },
      "outputs": [],
      "source": [
        "x_labels = np.array([1000, 5000, 10000, 50000, 100000, 500000])\n",
        "y_values = np.array([8328.4, 49318.6, 106011.2, 602600.4, 1270381.4, 7011728.0])\n",
        "y_values_2 = np.array([7368.0, 47821.4, 101596.2, 592733.6, 1230098.4, 7072969.4])"
      ]
    },
    {
      "cell_type": "code",
      "execution_count": 8,
      "metadata": {
        "id": "QLM39qv-twRS"
      },
      "outputs": [],
      "source": [
        "df = pd.DataFrame(index = [\"mediana=5\", \"mediana=3\"], columns = x_labels, data=[y_values, y_values_2])"
      ]
    },
    {
      "cell_type": "code",
      "execution_count": 9,
      "metadata": {
        "id": "4XREriY5yQ4t"
      },
      "outputs": [],
      "source": [
        "df2 = pd.melt(df.reset_index(), id_vars='index',value_vars=x_labels)"
      ]
    },
    {
      "cell_type": "code",
      "execution_count": 10,
      "metadata": {
        "colab": {
          "base_uri": "https://localhost:8080/",
          "height": 426
        },
        "id": "ahQd-f2uxxRm",
        "outputId": "0e5a4418-cc44-4024-a5f5-5fb4b0271d98"
      },
      "outputs": [
        {
          "data": {
            "text/html": [
              "<div>\n",
              "<style scoped>\n",
              "    .dataframe tbody tr th:only-of-type {\n",
              "        vertical-align: middle;\n",
              "    }\n",
              "\n",
              "    .dataframe tbody tr th {\n",
              "        vertical-align: top;\n",
              "    }\n",
              "\n",
              "    .dataframe thead th {\n",
              "        text-align: right;\n",
              "    }\n",
              "</style>\n",
              "<table border=\"1\" class=\"dataframe\">\n",
              "  <thead>\n",
              "    <tr style=\"text-align: right;\">\n",
              "      <th></th>\n",
              "      <th>index</th>\n",
              "      <th>variable</th>\n",
              "      <th>value</th>\n",
              "    </tr>\n",
              "  </thead>\n",
              "  <tbody>\n",
              "    <tr>\n",
              "      <th>0</th>\n",
              "      <td>mediana=5</td>\n",
              "      <td>1000</td>\n",
              "      <td>8328.4</td>\n",
              "    </tr>\n",
              "    <tr>\n",
              "      <th>1</th>\n",
              "      <td>mediana=3</td>\n",
              "      <td>1000</td>\n",
              "      <td>7368.0</td>\n",
              "    </tr>\n",
              "    <tr>\n",
              "      <th>2</th>\n",
              "      <td>mediana=5</td>\n",
              "      <td>5000</td>\n",
              "      <td>49318.6</td>\n",
              "    </tr>\n",
              "    <tr>\n",
              "      <th>3</th>\n",
              "      <td>mediana=3</td>\n",
              "      <td>5000</td>\n",
              "      <td>47821.4</td>\n",
              "    </tr>\n",
              "    <tr>\n",
              "      <th>4</th>\n",
              "      <td>mediana=5</td>\n",
              "      <td>10000</td>\n",
              "      <td>106011.2</td>\n",
              "    </tr>\n",
              "    <tr>\n",
              "      <th>5</th>\n",
              "      <td>mediana=3</td>\n",
              "      <td>10000</td>\n",
              "      <td>101596.2</td>\n",
              "    </tr>\n",
              "    <tr>\n",
              "      <th>6</th>\n",
              "      <td>mediana=5</td>\n",
              "      <td>50000</td>\n",
              "      <td>602600.4</td>\n",
              "    </tr>\n",
              "    <tr>\n",
              "      <th>7</th>\n",
              "      <td>mediana=3</td>\n",
              "      <td>50000</td>\n",
              "      <td>592733.6</td>\n",
              "    </tr>\n",
              "    <tr>\n",
              "      <th>8</th>\n",
              "      <td>mediana=5</td>\n",
              "      <td>100000</td>\n",
              "      <td>1270381.4</td>\n",
              "    </tr>\n",
              "    <tr>\n",
              "      <th>9</th>\n",
              "      <td>mediana=3</td>\n",
              "      <td>100000</td>\n",
              "      <td>1230098.4</td>\n",
              "    </tr>\n",
              "    <tr>\n",
              "      <th>10</th>\n",
              "      <td>mediana=5</td>\n",
              "      <td>500000</td>\n",
              "      <td>7011728.0</td>\n",
              "    </tr>\n",
              "    <tr>\n",
              "      <th>11</th>\n",
              "      <td>mediana=3</td>\n",
              "      <td>500000</td>\n",
              "      <td>7072969.4</td>\n",
              "    </tr>\n",
              "  </tbody>\n",
              "</table>\n",
              "</div>"
            ],
            "text/plain": [
              "        index variable      value\n",
              "0   mediana=5     1000     8328.4\n",
              "1   mediana=3     1000     7368.0\n",
              "2   mediana=5     5000    49318.6\n",
              "3   mediana=3     5000    47821.4\n",
              "4   mediana=5    10000   106011.2\n",
              "5   mediana=3    10000   101596.2\n",
              "6   mediana=5    50000   602600.4\n",
              "7   mediana=3    50000   592733.6\n",
              "8   mediana=5   100000  1270381.4\n",
              "9   mediana=3   100000  1230098.4\n",
              "10  mediana=5   500000  7011728.0\n",
              "11  mediana=3   500000  7072969.4"
            ]
          },
          "execution_count": 10,
          "metadata": {},
          "output_type": "execute_result"
        }
      ],
      "source": [
        "df2"
      ]
    },
    {
      "cell_type": "code",
      "execution_count": 11,
      "metadata": {
        "colab": {
          "base_uri": "https://localhost:8080/",
          "height": 528
        },
        "id": "BE-FajOew2FR",
        "outputId": "2e0da426-ce52-4653-8ab1-c9e82f8f4ae6"
      },
      "outputs": [
        {
          "data": {
            "image/png": "[encoded data removed]",
            "text/plain": [
              "<Figure size 640x480 with 1 Axes>"
            ]
          },
          "metadata": {},
          "output_type": "display_data"
        }
      ],
      "source": [
        "sns.color_palette(\"rocket\", as_cmap=True)\n",
        "\n",
        "ax = sns.barplot(x = \"variable\", y=\"value\", data=df2, hue='index', palette='pastel')\n",
        "for p in ax.patches:\n",
        "    height = p.get_height()\n",
        "    ax.text(p.get_x()+p.get_width()/2., height + 300, int(height) , ha=\"center\", fontsize= 'small')"
      ]
    },
    {
      "cell_type": "code",
      "execution_count": null,
      "metadata": {
        "id": "TevEkvgfpz-Y"
      },
      "outputs": [],
      "source": []
    }
  ],
  "metadata": {
    "colab": {
      "provenance": []
    },
    "kernelspec": {
      "display_name": "Python 3.8.10 64-bit",
      "language": "python",
      "name": "python3"
    },
    "language_info": {
      "codemirror_mode": {
        "name": "ipython",
        "version": 3
      },
      "file_extension": ".py",
      "mimetype": "text/x-python",
      "name": "python",
      "nbconvert_exporter": "python",
      "pygments_lexer": "ipython3",
      "version": "3.8.10"
    },
    "vscode": {
      "interpreter": {
        "hash": "916dbcbb3f70747c44a77c7bcd40155683ae19c65e1c03b4aa3499c5328201f1"
      }
    }
  },
  "nbformat": 4,
  "nbformat_minor": 0
}
